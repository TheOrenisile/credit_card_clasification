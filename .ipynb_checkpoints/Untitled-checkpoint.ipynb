{
 "cells": [
  {
   "cell_type": "code",
   "execution_count": 100,
   "id": "19dda9a4",
   "metadata": {},
   "outputs": [],
   "source": [
    "# Data Manipulation\n",
    "import numpy as np\n",
    "import pandas as pd\n",
    "pd.options.display.max_columns = None\n",
    "pd.options.display.max_rows = None\n",
    "pd.options.display.float_format = lambda x: '%.2f' % x\n",
    "# pd.set_option('display.float_format', lambda x: '%.2f' % x)\n",
    "\n",
    "#Visualisation\n",
    "import matplotlib.pyplot as plt\n",
    "import seaborn as sns\n",
    "sns.set()\n",
    "\n",
    "#Preprocesing\n",
    "from sklearn.preprocessing import LabelEncoder, OneHotEncoder, StandardScaler\n",
    "from sklearn.model_selection import RandomizedSearchCV, train_test_split\n",
    "\n",
    "# Algorithms\n",
    "import xgboost as xgb\n",
    "import lightgbm as lm\n",
    "import catboost as cbt\n",
    "from sklearn.ensemble import RandomForestClassifier\n",
    "from sklearn.neighbors import KNeighborsClassifier\n",
    "from sklearn.tree import DecisionTreeClassifier\n",
    "\n",
    "# Model Evaluation\n",
    "from sklearn.metrics import confusion_matrix, precision_score, accuracy_score, f1_score, recall_score \n",
    "\n",
    "import warnings\n",
    "warnings.filterwarnings('ignore')"
   ]
  },
  {
   "cell_type": "markdown",
   "id": "32423857",
   "metadata": {},
   "source": [
    "#### Load and inspect data"
   ]
  },
  {
   "cell_type": "code",
   "execution_count": null,
   "id": "86282823",
   "metadata": {},
   "outputs": [],
   "source": [
    "data = pd.read_excel('CreditScoreData.xlsx')\n",
    "data.head()"
   ]
  },
  {
   "cell_type": "code",
   "execution_count": null,
   "id": "e51bfdf4",
   "metadata": {},
   "outputs": [],
   "source": [
    "data.drop(['ID', 'Customer_ID', 'Month', 'Name', 'SSN'], inplace=True, axis=1)\n",
    "data.head()"
   ]
  },
  {
   "cell_type": "code",
   "execution_count": null,
   "id": "9b4fa928",
   "metadata": {},
   "outputs": [],
   "source": [
    "data.shape"
   ]
  },
  {
   "cell_type": "code",
   "execution_count": null,
   "id": "10711350",
   "metadata": {},
   "outputs": [],
   "source": [
    "data.describe(include='all')"
   ]
  },
  {
   "cell_type": "code",
   "execution_count": null,
   "id": "012e12d2",
   "metadata": {},
   "outputs": [],
   "source": [
    "missing = data.isnull().sum()\n",
    "count = data.isnull().count()\n",
    "percentage = missing/count * 100\n",
    "percentage.sort_values(ascending=True)"
   ]
  },
  {
   "cell_type": "code",
   "execution_count": null,
   "id": "597c4315",
   "metadata": {},
   "outputs": [],
   "source": [
    "df1 = data.drop('Type_of_Loan', axis=1)\n",
    "df1.info()"
   ]
  },
  {
   "cell_type": "code",
   "execution_count": null,
   "id": "15f1304d",
   "metadata": {},
   "outputs": [],
   "source": [
    "df1.nunique()"
   ]
  },
  {
   "cell_type": "markdown",
   "id": "6f21e4f6",
   "metadata": {},
   "source": [
    "#### Dealing with outliers"
   ]
  },
  {
   "cell_type": "code",
   "execution_count": null,
   "id": "8e1c3282",
   "metadata": {},
   "outputs": [],
   "source": [
    "columns = ['Age','Annual_Income','Monthly_Inhand_Salary','Changed_Credit_Limit',\n",
    "           'Delay_from_due_date','Amount_invested_monthly','Outstanding_Debt',\n",
    "           'Credit_Utilization_Ratio','Num_of_Delayed_Payment','Credit_History_Age_Months',\n",
    "           'Total_EMI_per_month','Amount_invested_monthly','Monthly_Balance']\n",
    "\n",
    "plt.figure(figsize = (18, 40))\n",
    "index = 1\n",
    "for index, column in enumerate(columns):\n",
    "    plt.subplot(7, 2, index+1)\n",
    "    sns.boxplot(df1[column])\n",
    "\n",
    "plt.subplots_adjust(hspace = 0.4)\n",
    "plt.show()"
   ]
  },
  {
   "cell_type": "code",
   "execution_count": null,
   "id": "74315572",
   "metadata": {},
   "outputs": [],
   "source": [
    "df2 = df1.copy()\n",
    "df2.shape"
   ]
  },
  {
   "cell_type": "code",
   "execution_count": 64,
   "id": "f06c5031",
   "metadata": {},
   "outputs": [
    {
     "data": {
      "text/plain": [
       "(23929, 22)"
      ]
     },
     "execution_count": 64,
     "metadata": {},
     "output_type": "execute_result"
    }
   ],
   "source": [
    "df2.shape"
   ]
  },
  {
   "cell_type": "code",
   "execution_count": 95,
   "id": "efbc9326",
   "metadata": {},
   "outputs": [],
   "source": [
    "def outlier_remover(df,columns):\n",
    "    for column in columns:\n",
    "        q1 = np.percentile(df[column], 25, interpolation = 'midpoint')\n",
    "        q3 = np.percentile(df[column], 75, interpolation = 'midpoint')\n",
    "        IQR = q3 - q1\n",
    "        upper_key_val = (q3+1.5*IQR)\n",
    "        lower_key_val = (q1-1.5*IQR)\n",
    "        df.loc[(df[column] <= upper_key_val)&(df[column] >= lower_key_val), column] = None\n",
    "        print(df.shape)\n",
    "#     df.dropna(axis=0)\n",
    "    return df.isna()\n",
    "    "
   ]
  },
  {
   "cell_type": "code",
   "execution_count": null,
   "id": "466549c6",
   "metadata": {},
   "outputs": [
    {
     "name": "stdout",
     "output_type": "stream",
     "text": [
      "(23929, 22)\n",
      "(23929, 22)\n",
      "(23929, 22)\n"
     ]
    }
   ],
   "source": [
    "outlier_remover(df2,['Annual_Income','Monthly_Inhand_Salary','Changed_Credit_Limit'])"
   ]
  },
  {
   "cell_type": "code",
   "execution_count": 85,
   "id": "bd14f33d",
   "metadata": {},
   "outputs": [
    {
     "data": {
      "text/plain": [
       "(23428, 22)"
      ]
     },
     "execution_count": 85,
     "metadata": {},
     "output_type": "execute_result"
    }
   ],
   "source": [
    "outlier_remover(df2, 'Monthly_Inhand_Salary')"
   ]
  },
  {
   "cell_type": "code",
   "execution_count": null,
   "id": "621bdb03",
   "metadata": {},
   "outputs": [],
   "source": []
  },
  {
   "cell_type": "code",
   "execution_count": null,
   "id": "ad4e75cd",
   "metadata": {},
   "outputs": [],
   "source": [
    "'Annual_Income','Monthly_Inhand_Salary','Changed_Credit_Limit',\n",
    "           'Delay_from_due_date','Amount_invested_monthly','Outstanding_Debt',\n",
    "           'Credit_Utilization_Ratio','Num_of_Delayed_Payment','Credit_History_Age_Months',\n",
    "           'Total_EMI_per_month','Amount_invested_monthly','Monthly_Balance'"
   ]
  },
  {
   "cell_type": "markdown",
   "id": "193c39b1",
   "metadata": {},
   "source": [
    "### print(outlier_remover(df2, 'Age'))"
   ]
  },
  {
   "cell_type": "code",
   "execution_count": null,
   "id": "a5227852",
   "metadata": {},
   "outputs": [],
   "source": []
  },
  {
   "cell_type": "code",
   "execution_count": null,
   "id": "92f76977",
   "metadata": {},
   "outputs": [],
   "source": []
  }
 ],
 "metadata": {
  "kernelspec": {
   "display_name": "Python 3",
   "language": "python",
   "name": "python3"
  },
  "language_info": {
   "codemirror_mode": {
    "name": "ipython",
    "version": 3
   },
   "file_extension": ".py",
   "mimetype": "text/x-python",
   "name": "python",
   "nbconvert_exporter": "python",
   "pygments_lexer": "ipython3",
   "version": "3.8.8"
  }
 },
 "nbformat": 4,
 "nbformat_minor": 5
}
